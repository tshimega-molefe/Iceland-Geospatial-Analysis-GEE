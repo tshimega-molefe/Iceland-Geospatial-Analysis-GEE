{
 "cells": [
  {
   "cell_type": "code",
   "execution_count": 1,
   "metadata": {},
   "outputs": [],
   "source": [
    "import ee\n",
    "import geemap"
   ]
  },
  {
   "cell_type": "code",
   "execution_count": 2,
   "metadata": {},
   "outputs": [
    {
     "data": {
      "text/html": [
       "\n",
       "            <style>\n",
       "                .geemap-dark {\n",
       "                    --jp-widgets-color: white;\n",
       "                    --jp-widgets-label-color: white;\n",
       "                    --jp-ui-font-color1: white;\n",
       "                    --jp-layout-color2: #454545;\n",
       "                    background-color: #383838;\n",
       "                }\n",
       "                    \n",
       "                .geemap-dark .jupyter-button {\n",
       "                    --jp-layout-color3: #383838;\n",
       "                }\n",
       "                \n",
       "                .geemap-colab {\n",
       "                    background-color: var(--colab-primary-surface-color, white);\n",
       "                }\n",
       "                    \n",
       "                .geemap-colab .jupyter-button {\n",
       "                    --jp-layout-color3: var(--colab-primary-surface-color, white);\n",
       "                }\n",
       "            </style>\n",
       "            "
      ],
      "text/plain": [
       "<IPython.core.display.HTML object>"
      ]
     },
     "metadata": {},
     "output_type": "display_data"
    },
    {
     "data": {
      "text/plain": [
       "True"
      ]
     },
     "execution_count": 2,
     "metadata": {},
     "output_type": "execute_result"
    }
   ],
   "source": [
    "ee.Authenticate()"
   ]
  },
  {
   "cell_type": "code",
   "execution_count": 3,
   "metadata": {},
   "outputs": [
    {
     "data": {
      "text/html": [
       "\n",
       "            <style>\n",
       "                .geemap-dark {\n",
       "                    --jp-widgets-color: white;\n",
       "                    --jp-widgets-label-color: white;\n",
       "                    --jp-ui-font-color1: white;\n",
       "                    --jp-layout-color2: #454545;\n",
       "                    background-color: #383838;\n",
       "                }\n",
       "                    \n",
       "                .geemap-dark .jupyter-button {\n",
       "                    --jp-layout-color3: #383838;\n",
       "                }\n",
       "                \n",
       "                .geemap-colab {\n",
       "                    background-color: var(--colab-primary-surface-color, white);\n",
       "                }\n",
       "                    \n",
       "                .geemap-colab .jupyter-button {\n",
       "                    --jp-layout-color3: var(--colab-primary-surface-color, white);\n",
       "                }\n",
       "            </style>\n",
       "            "
      ],
      "text/plain": [
       "<IPython.core.display.HTML object>"
      ]
     },
     "metadata": {},
     "output_type": "display_data"
    }
   ],
   "source": [
    "ee.Initialize()"
   ]
  },
  {
   "cell_type": "code",
   "execution_count": 4,
   "metadata": {},
   "outputs": [
    {
     "data": {
      "text/html": [
       "\n",
       "            <style>\n",
       "                .geemap-dark {\n",
       "                    --jp-widgets-color: white;\n",
       "                    --jp-widgets-label-color: white;\n",
       "                    --jp-ui-font-color1: white;\n",
       "                    --jp-layout-color2: #454545;\n",
       "                    background-color: #383838;\n",
       "                }\n",
       "                    \n",
       "                .geemap-dark .jupyter-button {\n",
       "                    --jp-layout-color3: #383838;\n",
       "                }\n",
       "                \n",
       "                .geemap-colab {\n",
       "                    background-color: var(--colab-primary-surface-color, white);\n",
       "                }\n",
       "                    \n",
       "                .geemap-colab .jupyter-button {\n",
       "                    --jp-layout-color3: var(--colab-primary-surface-color, white);\n",
       "                }\n",
       "            </style>\n",
       "            "
      ],
      "text/plain": [
       "<IPython.core.display.HTML object>"
      ]
     },
     "metadata": {},
     "output_type": "display_data"
    },
    {
     "data": {
      "application/vnd.jupyter.widget-view+json": {
       "model_id": "f228c5b69f464ea3bf527e81e9342ba2",
       "version_major": 2,
       "version_minor": 0
      },
      "text/plain": [
       "Map(center=[64.9631, -19.0208], controls=(ZoomControl(options=['position', 'zoom_in_text', 'zoom_in_title', 'z…"
      ]
     },
     "execution_count": 4,
     "metadata": {},
     "output_type": "execute_result"
    }
   ],
   "source": [
    "# Center geemap on Iceland\n",
    "m = geemap.Map(center=[64.9631, -19.0208], zoom=6, height=600, data_ctrl=False, toolbar_ctrl=False, draw_ctrl=False)\n",
    "m"
   ]
  },
  {
   "cell_type": "code",
   "execution_count": 116,
   "metadata": {},
   "outputs": [
    {
     "data": {
      "text/html": [
       "\n",
       "            <style>\n",
       "                .geemap-dark {\n",
       "                    --jp-widgets-color: white;\n",
       "                    --jp-widgets-label-color: white;\n",
       "                    --jp-ui-font-color1: white;\n",
       "                    --jp-layout-color2: #454545;\n",
       "                    background-color: #383838;\n",
       "                }\n",
       "                    \n",
       "                .geemap-dark .jupyter-button {\n",
       "                    --jp-layout-color3: #383838;\n",
       "                }\n",
       "                \n",
       "                .geemap-colab {\n",
       "                    background-color: var(--colab-primary-surface-color, white);\n",
       "                }\n",
       "                    \n",
       "                .geemap-colab .jupyter-button {\n",
       "                    --jp-layout-color3: var(--colab-primary-surface-color, white);\n",
       "                }\n",
       "            </style>\n",
       "            "
      ],
      "text/plain": [
       "<IPython.core.display.HTML object>"
      ]
     },
     "metadata": {},
     "output_type": "display_data"
    },
    {
     "name": "stdout",
     "output_type": "stream",
     "text": [
      "Esri.WorldImagery has been already added before.\n"
     ]
    }
   ],
   "source": [
    "# Esri.WorldImagery\n",
    "# Provides high-resolution satellite imagery of the world, offering detailed views of Iceland's landscape. This basemap is excellent for identifying potential sites for geothermal and hydroelectric projects by allowing users to examine surface features, water bodies, and vegetation cover in great detail.\n",
    "m.add_basemap('Esri.WorldImagery', show=True)"
   ]
  },
  {
   "cell_type": "code",
   "execution_count": 112,
   "metadata": {},
   "outputs": [
    {
     "data": {
      "text/html": [
       "\n",
       "            <style>\n",
       "                .geemap-dark {\n",
       "                    --jp-widgets-color: white;\n",
       "                    --jp-widgets-label-color: white;\n",
       "                    --jp-ui-font-color1: white;\n",
       "                    --jp-layout-color2: #454545;\n",
       "                    background-color: #383838;\n",
       "                }\n",
       "                    \n",
       "                .geemap-dark .jupyter-button {\n",
       "                    --jp-layout-color3: #383838;\n",
       "                }\n",
       "                \n",
       "                .geemap-colab {\n",
       "                    background-color: var(--colab-primary-surface-color, white);\n",
       "                }\n",
       "                    \n",
       "                .geemap-colab .jupyter-button {\n",
       "                    --jp-layout-color3: var(--colab-primary-surface-color, white);\n",
       "                }\n",
       "            </style>\n",
       "            "
      ],
      "text/plain": [
       "<IPython.core.display.HTML object>"
      ]
     },
     "metadata": {},
     "output_type": "display_data"
    },
    {
     "name": "stdout",
     "output_type": "stream",
     "text": [
      "Esri.WorldTopoMap has been already added before.\n"
     ]
    }
   ],
   "source": [
    "# Esri.WorldTopoMap\n",
    "# Combines topographic maps with street maps, including labels for geographical features. This map is useful for both natural and urban area analysis, helping to assess infrastructure needs for potential renewable energy sites and their connectivity to existing grids and settlements.\n",
    "m.add_basemap('Esri.WorldTopoMap', show=False)"
   ]
  },
  {
   "cell_type": "code",
   "execution_count": 115,
   "metadata": {},
   "outputs": [
    {
     "data": {
      "text/html": [
       "\n",
       "            <style>\n",
       "                .geemap-dark {\n",
       "                    --jp-widgets-color: white;\n",
       "                    --jp-widgets-label-color: white;\n",
       "                    --jp-ui-font-color1: white;\n",
       "                    --jp-layout-color2: #454545;\n",
       "                    background-color: #383838;\n",
       "                }\n",
       "                    \n",
       "                .geemap-dark .jupyter-button {\n",
       "                    --jp-layout-color3: #383838;\n",
       "                }\n",
       "                \n",
       "                .geemap-colab {\n",
       "                    background-color: var(--colab-primary-surface-color, white);\n",
       "                }\n",
       "                    \n",
       "                .geemap-colab .jupyter-button {\n",
       "                    --jp-layout-color3: var(--colab-primary-surface-color, white);\n",
       "                }\n",
       "            </style>\n",
       "            "
      ],
      "text/plain": [
       "<IPython.core.display.HTML object>"
      ]
     },
     "metadata": {},
     "output_type": "display_data"
    }
   ],
   "source": [
    "# ESA Worldcover 2021\n",
    "# Provides recent land cover data, essential for environmental impact assessments and identifying changes in land use over time. This can support analysis related to the sustainability of renewable energy sites and their potential environmental impacts.\n",
    "m.add_basemap('ESA Worldcover 2021', show=False)"
   ]
  },
  {
   "cell_type": "code",
   "execution_count": 117,
   "metadata": {},
   "outputs": [
    {
     "data": {
      "text/html": [
       "\n",
       "            <style>\n",
       "                .geemap-dark {\n",
       "                    --jp-widgets-color: white;\n",
       "                    --jp-widgets-label-color: white;\n",
       "                    --jp-ui-font-color1: white;\n",
       "                    --jp-layout-color2: #454545;\n",
       "                    background-color: #383838;\n",
       "                }\n",
       "                    \n",
       "                .geemap-dark .jupyter-button {\n",
       "                    --jp-layout-color3: #383838;\n",
       "                }\n",
       "                \n",
       "                .geemap-colab {\n",
       "                    background-color: var(--colab-primary-surface-color, white);\n",
       "                }\n",
       "                    \n",
       "                .geemap-colab .jupyter-button {\n",
       "                    --jp-layout-color3: var(--colab-primary-surface-color, white);\n",
       "                }\n",
       "            </style>\n",
       "            "
      ],
      "text/plain": [
       "<IPython.core.display.HTML object>"
      ]
     },
     "metadata": {},
     "output_type": "display_data"
    },
    {
     "name": "stdout",
     "output_type": "stream",
     "text": [
      "Esri.WorldTerrain has been already added before.\n"
     ]
    }
   ],
   "source": [
    "# Esri.WorldTerrain\n",
    "# Presents a detailed view of physical terrain features, crucial for evaluating the topography around potential hydroelectric and geothermal sites. This basemap can help determine the feasibility of construction and potential environmental impacts of renewable energy projects.\n",
    "m.add_basemap('Esri.WorldTerrain', show=False)"
   ]
  },
  {
   "cell_type": "code",
   "execution_count": 9,
   "metadata": {},
   "outputs": [
    {
     "data": {
      "text/html": [
       "\n",
       "            <style>\n",
       "                .geemap-dark {\n",
       "                    --jp-widgets-color: white;\n",
       "                    --jp-widgets-label-color: white;\n",
       "                    --jp-ui-font-color1: white;\n",
       "                    --jp-layout-color2: #454545;\n",
       "                    background-color: #383838;\n",
       "                }\n",
       "                    \n",
       "                .geemap-dark .jupyter-button {\n",
       "                    --jp-layout-color3: #383838;\n",
       "                }\n",
       "                \n",
       "                .geemap-colab {\n",
       "                    background-color: var(--colab-primary-surface-color, white);\n",
       "                }\n",
       "                    \n",
       "                .geemap-colab .jupyter-button {\n",
       "                    --jp-layout-color3: var(--colab-primary-surface-color, white);\n",
       "                }\n",
       "            </style>\n",
       "            "
      ],
      "text/plain": [
       "<IPython.core.display.HTML object>"
      ]
     },
     "metadata": {},
     "output_type": "display_data"
    }
   ],
   "source": [
    "# OpenTopoMap\n",
    "# Mimics traditional topographic maps and includes contour lines, elevation data, and trails. This is particularly useful for in-depth analysis of potential hydroelectric power sites, where elevation changes are a critical factor in determining site viability.\n",
    "m.add_basemap('OpenTopoMap', show=False)"
   ]
  },
  {
   "cell_type": "markdown",
   "metadata": {},
   "source": [
    "Resolution and Detail: \n",
    "\n",
    "High-resolution imagery (Esri.WorldImagery) is crucial for identifying potential sites and assessing environmental conditions.\n",
    "\n",
    "Topographical Information: For assessing site feasibility and planning infrastructure, detailed topographical information (Esri.WorldTerrain, OpenTopoMap) is essential.\n",
    "\n",
    "Land Cover and Environmental Impact: Understanding the current state of land cover (ESA Worldcover 2020/2021) is vital for environmental impact assessments and planning sustainable projects.\n",
    "\n",
    "Urban and Infrastructure Details: For projects near urban areas or requiring assessment of existing infrastructure, a map with detailed urban layouts (Esri.WorldTopoMap) is beneficial.\n",
    "\n",
    "Each of these basemaps offers unique advantages for comprehensive analysis in renewable energy sector projects. By carefully selecting the most appropriate basemap for our specific analysis needs, we can enhance the accuracy and effectiveness of our geospatial assessments in Iceland."
   ]
  },
  {
   "cell_type": "markdown",
   "metadata": {},
   "source": [
    "Basemap List:"
   ]
  },
  {
   "cell_type": "code",
   "execution_count": 10,
   "metadata": {},
   "outputs": [
    {
     "data": {
      "text/html": [
       "\n",
       "            <style>\n",
       "                .geemap-dark {\n",
       "                    --jp-widgets-color: white;\n",
       "                    --jp-widgets-label-color: white;\n",
       "                    --jp-ui-font-color1: white;\n",
       "                    --jp-layout-color2: #454545;\n",
       "                    background-color: #383838;\n",
       "                }\n",
       "                    \n",
       "                .geemap-dark .jupyter-button {\n",
       "                    --jp-layout-color3: #383838;\n",
       "                }\n",
       "                \n",
       "                .geemap-colab {\n",
       "                    background-color: var(--colab-primary-surface-color, white);\n",
       "                }\n",
       "                    \n",
       "                .geemap-colab .jupyter-button {\n",
       "                    --jp-layout-color3: var(--colab-primary-surface-color, white);\n",
       "                }\n",
       "            </style>\n",
       "            "
      ],
      "text/plain": [
       "<IPython.core.display.HTML object>"
      ]
     },
     "metadata": {},
     "output_type": "display_data"
    },
    {
     "data": {
      "text/plain": [
       "143"
      ]
     },
     "execution_count": 10,
     "metadata": {},
     "output_type": "execute_result"
    }
   ],
   "source": [
    "basemaps = list(geemap.basemaps.keys())\n",
    "len(geemap.basemaps)"
   ]
  },
  {
   "cell_type": "code",
   "execution_count": 11,
   "metadata": {},
   "outputs": [
    {
     "data": {
      "text/html": [
       "\n",
       "            <style>\n",
       "                .geemap-dark {\n",
       "                    --jp-widgets-color: white;\n",
       "                    --jp-widgets-label-color: white;\n",
       "                    --jp-ui-font-color1: white;\n",
       "                    --jp-layout-color2: #454545;\n",
       "                    background-color: #383838;\n",
       "                }\n",
       "                    \n",
       "                .geemap-dark .jupyter-button {\n",
       "                    --jp-layout-color3: #383838;\n",
       "                }\n",
       "                \n",
       "                .geemap-colab {\n",
       "                    background-color: var(--colab-primary-surface-color, white);\n",
       "                }\n",
       "                    \n",
       "                .geemap-colab .jupyter-button {\n",
       "                    --jp-layout-color3: var(--colab-primary-surface-color, white);\n",
       "                }\n",
       "            </style>\n",
       "            "
      ],
      "text/plain": [
       "<IPython.core.display.HTML object>"
      ]
     },
     "metadata": {},
     "output_type": "display_data"
    },
    {
     "data": {
      "text/plain": [
       "['OpenStreetMap',\n",
       " 'Esri.WorldStreetMap',\n",
       " 'Esri.WorldImagery',\n",
       " 'Esri.WorldTopoMap',\n",
       " 'FWS NWI Wetlands',\n",
       " 'FWS NWI Wetlands Raster',\n",
       " 'NLCD 2021 CONUS Land Cover',\n",
       " 'NLCD 2019 CONUS Land Cover',\n",
       " 'NLCD 2016 CONUS Land Cover',\n",
       " 'NLCD 2013 CONUS Land Cover']"
      ]
     },
     "execution_count": 11,
     "metadata": {},
     "output_type": "execute_result"
    }
   ],
   "source": [
    "# First 10 Basemaps\n",
    "basemaps[:10]"
   ]
  },
  {
   "cell_type": "code",
   "execution_count": 107,
   "metadata": {},
   "outputs": [
    {
     "data": {
      "text/html": [
       "\n",
       "            <style>\n",
       "                .geemap-dark {\n",
       "                    --jp-widgets-color: white;\n",
       "                    --jp-widgets-label-color: white;\n",
       "                    --jp-ui-font-color1: white;\n",
       "                    --jp-layout-color2: #454545;\n",
       "                    background-color: #383838;\n",
       "                }\n",
       "                    \n",
       "                .geemap-dark .jupyter-button {\n",
       "                    --jp-layout-color3: #383838;\n",
       "                }\n",
       "                \n",
       "                .geemap-colab {\n",
       "                    background-color: var(--colab-primary-surface-color, white);\n",
       "                }\n",
       "                    \n",
       "                .geemap-colab .jupyter-button {\n",
       "                    --jp-layout-color3: var(--colab-primary-surface-color, white);\n",
       "                }\n",
       "            </style>\n",
       "            "
      ],
      "text/plain": [
       "<IPython.core.display.HTML object>"
      ]
     },
     "metadata": {},
     "output_type": "display_data"
    },
    {
     "data": {
      "application/vnd.jupyter.widget-view+json": {
       "model_id": "38a393de1a604aa481dc3dfd18364f61",
       "version_major": 2,
       "version_minor": 0
      },
      "text/plain": [
       "Map(center=[64.9631, -19.0208], controls=(ZoomControl(options=['position', 'zoom_in_text', 'zoom_in_title', 'z…"
      ]
     },
     "execution_count": 107,
     "metadata": {},
     "output_type": "execute_result"
    }
   ],
   "source": [
    "# Center geemap on Iceland\n",
    "m = geemap.Map(center=[64.9631, -19.0208], zoom=6, height=600, data_ctrl=False, toolbar_ctrl=True, draw_ctrl=True)\n",
    "m"
   ]
  },
  {
   "cell_type": "markdown",
   "metadata": {},
   "source": [
    "Image: the fundamental raster data type in Earth Engine.\n",
    "\n",
    "ImageCollection: a stack or time-series of images.\n",
    "\n",
    "Geometry: the fundamental vector data type in Earth Engine.\n",
    "\n",
    "Feature: a Geometry with attributes.\n",
    "\n",
    "FeatureCollection: a set of features.\n",
    "\n",
    "In the context of Leviathan's focus on renewable energy sector analysis in Iceland, particularly for identifying and evaluating potential sites for geothermal and hydroelectric power, environmental monitoring, and infrastructure planning, the most effective Earth Engine data types would vary depending on the specific analysis phase and objectives. However, a strategic combination of these data types can offer comprehensive insights. Here’s how each data type could be leveraged and which might be considered the best feature for our needs:\n",
    "\n",
    "1. Image and ImageCollection\n",
    "   \n",
    "Best For: \n",
    "\n",
    "Detailed analysis of land use, vegetation health, water bodies, and surface temperatures over time.\n",
    "\n",
    "Application: \n",
    "\n",
    "Identifying potential sites for renewable energy projects requires analysis of both current conditions and changes over time. Satellite imagery (Image) and time-series data (ImageCollection) are invaluable for monitoring changes in glacier extents, vegetation cover indicating geothermal activity, and water levels in reservoirs for hydroelectric power. For instance, analyzing a time series of thermal images can help identify geothermal hotspots, while multispectral imagery can assess water quality and availability for hydroelectric projects.\n",
    "\n",
    "2. Geometry\n",
    "   \n",
    "Best For: \n",
    "\n",
    "Defining specific areas of interest or analysis boundaries.\n",
    "\n",
    "Application: \n",
    "\n",
    "Geometries can be used to outline the boundaries of potential sites for renewable energy projects, conservation areas, or regions for environmental impact assessments. This vector data type is crucial for spatial analyses, such as calculating the area of land suitable for solar panels or the length of rivers for hydroelectric potential.\n",
    "\n",
    "3. Feature and FeatureCollection\n",
    "   \n",
    "Best For: \n",
    "\n",
    "Integrating spatial data with attribute data for in-depth analysis.\n",
    "\n",
    "Application: \n",
    "\n",
    "Features and FeatureCollections are essential for associating geospatial locations with attributes like land ownership, land use type, and regulatory zones. This is particularly useful in the planning phase, where we need to overlay potential renewable energy sites with environmental protection areas, cultural heritage sites, or other relevant attributes to assess site feasibility and compliance with regulations.\n",
    "\n",
    "Best Feature for Leviathan's Context:\n",
    "\n",
    "While all these Earth Engine data types are useful, the ImageCollection stands out as particularly beneficial for Leviathan's objectives. The ability to analyze time-series data allows for dynamic monitoring of environmental and surface conditions crucial to renewable energy projects. ImageCollections enable the tracking of temporal changes, such as:\n",
    "\n",
    "Seasonal variations in water flow for hydroelectric power feasibility.\n",
    "\n",
    "Changes in land surface temperature that might indicate geothermal activity.\n",
    "\n",
    "Monitoring vegetation health and land cover changes over time to assess the impact of climate change or human activity on potential renewable energy sites.\n",
    "\n",
    "ImageCollections, when used alongside machine learning and AI techniques, can provide predictive insights into future changes, enhancing decision-making processes for investment in renewable energy projects. \n",
    "\n",
    "They offer a temporal depth that static images or vector data cannot, making them invaluable for longitudinal studies and trend analysis critical to understanding and mitigating environmental impacts, optimizing resource allocation, and ensuring the sustainability of energy projects.\n",
    "\n",
    "To maximize the utility of Earth Engine for Leviathan's goals, leveraging ImageCollections for temporal analysis, combined with Features or FeatureCollections for attribute-based insights and Geometries for spatial delineation, would provide a comprehensive toolkit for data-driven decision-making in renewable energy investment and environmental stewardship."
   ]
  },
  {
   "cell_type": "markdown",
   "metadata": {},
   "source": [
    "# List of Useful Earth Engine Image Assets for Renewable Energy Analysis in Iceland\n",
    "\n",
    "### Landsat Collections (e.g., Landsat 7, 8, 9): \n",
    "\n",
    "Provide moderate-resolution imagery suitable for assessing land cover, vegetation health, and water bodies.\n",
    "\n",
    "- LANDSAT/LC08/C01/T1_TOA/LC08_123032_20140515 (Landsat 8 TOA reflectance)\n",
    "- LANDSAT/LC09/C02/T2_L2\n",
    "\n",
    "### Sentinel-2 MSI: \n",
    "\n",
    "The Sentinel-2 mission collects high-resolution multispectral imagery useful for a broad range of applications, including monitoring of vegetation, soil and water cover, land cover change, as well as humanitarian and disaster risk.\n",
    "\n",
    "- COPERNICUS/S2/20190729T102031_20190729T102034_T32ULA (Sentinel-2 MSI)\n",
    "\n",
    "### Sentinel-5P TROPOMI: TROPOspheric Monitoring Instrument\n",
    "\n",
    "The Sentinel-5 Precursor mission collects data useful for assessing air quality, including concentrations of: ozone, methane, formaldehyde, aerosol, carbon monoxide, nitrogen oxide, and sulphur dioxide.\n",
    "\n",
    "- COPERNICUS/S5P/OFFL/L3_AER_AI\n",
    "- The AAI is based on wavelength-dependent changes in Rayleigh scattering in the UV spectral range for a pair of wavelengths. The difference between observed and modelled reflectance results in the AAI. When the AAI is positive, it indicates the presence of UV-absorbing aerosols like dust and smoke. It is useful for tracking the evolution of episodic aerosol plumes from dust outbreaks, volcanic ash, and biomass burning.\n",
    "                                              \n",
    "### MODIS Land Surface Temperature & Vegetation Indices: \n",
    "\n",
    "Useful for assessing vegetation health and surface temperature, important for geothermal energy exploration.\n",
    "\n",
    "- MODIS/006/MOD11A1 (MODIS Terra Land Surface Temperature and Emissivity)\n",
    "- MODIS/006/MYD13A1 (MODIS Aqua Vegetation Indices)\n",
    "                                                                                                                   \n",
    "### USGS SRTM Digital Elevation Model (DEM): \n",
    "\n",
    "Provides elevation data, critical for hydroelectric power site selection and watershed analysis.\n",
    "\n",
    "- USGS/SRTMGL1_003 (SRTM DEM version 3)\n",
    "\n",
    "### Global Forest Change Dataset: \n",
    "\n",
    "Offers data on forest cover, loss, and gain, useful for assessing biomass energy potential and environmental impact.\n",
    "\n",
    "- UMD/hansen/global_forest_change_2020_v1_8 (Global Forest Change)"
   ]
  },
  {
   "cell_type": "code",
   "execution_count": 33,
   "metadata": {},
   "outputs": [
    {
     "data": {
      "text/html": [
       "\n",
       "            <style>\n",
       "                .geemap-dark {\n",
       "                    --jp-widgets-color: white;\n",
       "                    --jp-widgets-label-color: white;\n",
       "                    --jp-ui-font-color1: white;\n",
       "                    --jp-layout-color2: #454545;\n",
       "                    background-color: #383838;\n",
       "                }\n",
       "                    \n",
       "                .geemap-dark .jupyter-button {\n",
       "                    --jp-layout-color3: #383838;\n",
       "                }\n",
       "                \n",
       "                .geemap-colab {\n",
       "                    background-color: var(--colab-primary-surface-color, white);\n",
       "                }\n",
       "                    \n",
       "                .geemap-colab .jupyter-button {\n",
       "                    --jp-layout-color3: var(--colab-primary-surface-color, white);\n",
       "                }\n",
       "            </style>\n",
       "            "
      ],
      "text/plain": [
       "<IPython.core.display.HTML object>"
      ]
     },
     "metadata": {},
     "output_type": "display_data"
    },
    {
     "data": {
      "text/html": [
       "<div><style>:root {\n",
       "  --font-color-primary: var(--jp-content-font-color0, rgba(0, 0, 0, 1));\n",
       "  --font-color-secondary: var(--jp-content-font-color2, rgba(0, 0, 0, 0.6));\n",
       "  --font-color-accent: rgba(123, 31, 162, 1);\n",
       "  --border-color: var(--jp-border-color2, #e0e0e0);\n",
       "  --background-color: var(--jp-layout-color0, white);\n",
       "  --background-color-row-even: var(--jp-layout-color1, white);\n",
       "  --background-color-row-odd: var(--jp-layout-color2, #eeeeee);\n",
       "}\n",
       "\n",
       "html[theme=\"dark\"],\n",
       "body[data-theme=\"dark\"],\n",
       "body.vscode-dark {\n",
       "  --font-color-primary: rgba(255, 255, 255, 1);\n",
       "  --font-color-secondary: rgba(255, 255, 255, 0.6);\n",
       "  --font-color-accent: rgb(173, 132, 190);\n",
       "  --border-color: #2e2e2e;\n",
       "  --background-color: #111111;\n",
       "  --background-color-row-even: #111111;\n",
       "  --background-color-row-odd: #313131;\n",
       "}\n",
       "\n",
       ".ee {\n",
       "  padding: 1em;\n",
       "  line-height: 1.5em;\n",
       "  min-width: 300px;\n",
       "  max-width: 1200px;\n",
       "  overflow-y: scroll;\n",
       "  max-height: 600px;\n",
       "  border: 1px solid var(--border-color);\n",
       "  font-family: monospace;\n",
       "}\n",
       "\n",
       ".ee li {\n",
       "  list-style-type: none;\n",
       "}\n",
       "\n",
       ".ee ul {\n",
       "  padding-left: 1.5em !important;\n",
       "  margin: 0;\n",
       "}\n",
       "\n",
       ".ee > ul {\n",
       "  padding-left: 0 !important;\n",
       "}\n",
       "\n",
       ".ee-open,\n",
       ".ee-shut {\n",
       "  color: var(--font-color-secondary);\n",
       "  cursor: pointer;\n",
       "  margin: 0;\n",
       "}\n",
       "\n",
       ".ee-open:hover,\n",
       ".ee-shut:hover {\n",
       "  color: var(--font-color-primary);\n",
       "}\n",
       "\n",
       ".ee-k {\n",
       "  color: var(--font-color-accent);\n",
       "  margin-right: 6px;\n",
       "}\n",
       "\n",
       ".ee-v {\n",
       "  color: var(--font-color-primary);\n",
       "}\n",
       "\n",
       ".ee-toggle {\n",
       "  display: none;\n",
       "}\n",
       "\n",
       ".ee-shut + ul {\n",
       "  display: none;\n",
       "}\n",
       "\n",
       ".ee-open + ul {\n",
       "  display: block;\n",
       "}\n",
       "\n",
       ".ee-shut::before {\n",
       "  display: inline-block;\n",
       "  content: \"▼\";\n",
       "  margin-right: 6px;\n",
       "  transform: rotate(-90deg);\n",
       "  transition: transform 0.2s;\n",
       "}\n",
       "\n",
       ".ee-open::before {\n",
       "  transform: rotate(0deg);\n",
       "  display: inline-block;\n",
       "  content: \"▼\";\n",
       "  margin-right: 6px;\n",
       "  transition: transform 0.2s;\n",
       "}\n",
       "</style><div class='ee'><ul><li><label class='ee-shut'>Image LANDSAT/LC08/C01/T1_TOA/LC08_123032_20140515 (12 bands)<input type='checkbox' class='ee-toggle'></label><ul><li><span class='ee-k'>type:</span><span class='ee-v'>Image</span></li><li><span class='ee-k'>id:</span><span class='ee-v'>LANDSAT/LC08/C01/T1_TOA/LC08_123032_20140515</span></li><li><span class='ee-k'>version:</span><span class='ee-v'>1655337549451297</span></li><li><label class='ee-shut'>bands: List (12 elements)<input type='checkbox' class='ee-toggle'></label><ul><li><label class='ee-shut'>0: \"B1\", float, EPSG:32650, 7761x7881 px<input type='checkbox' class='ee-toggle'></label><ul><li><span class='ee-k'>id:</span><span class='ee-v'>B1</span></li><li><span class='ee-k'>crs:</span><span class='ee-v'>EPSG:32650</span></li><li><label class='ee-shut'>crs_transform: [30, 0, 354885, 0, -30, 4582515]<input type='checkbox' class='ee-toggle'></label><ul><li><span class='ee-k'>0:</span><span class='ee-v'>30</span></li><li><span class='ee-k'>1:</span><span class='ee-v'>0</span></li><li><span class='ee-k'>2:</span><span class='ee-v'>354885</span></li><li><span class='ee-k'>3:</span><span class='ee-v'>0</span></li><li><span class='ee-k'>4:</span><span class='ee-v'>-30</span></li><li><span class='ee-k'>5:</span><span class='ee-v'>4582515</span></li></ul></li><li><label class='ee-shut'>data_type: float<input type='checkbox' class='ee-toggle'></label><ul><li><span class='ee-k'>type:</span><span class='ee-v'>PixelType</span></li><li><span class='ee-k'>precision:</span><span class='ee-v'>float</span></li></ul></li><li><label class='ee-shut'>dimensions: [7761, 7881]<input type='checkbox' class='ee-toggle'></label><ul><li><span class='ee-k'>0:</span><span class='ee-v'>7761</span></li><li><span class='ee-k'>1:</span><span class='ee-v'>7881</span></li></ul></li></ul></li><li><label class='ee-shut'>1: \"B2\", float, EPSG:32650, 7761x7881 px<input type='checkbox' class='ee-toggle'></label><ul><li><span class='ee-k'>id:</span><span class='ee-v'>B2</span></li><li><span class='ee-k'>crs:</span><span class='ee-v'>EPSG:32650</span></li><li><label class='ee-shut'>crs_transform: [30, 0, 354885, 0, -30, 4582515]<input type='checkbox' class='ee-toggle'></label><ul><li><span class='ee-k'>0:</span><span class='ee-v'>30</span></li><li><span class='ee-k'>1:</span><span class='ee-v'>0</span></li><li><span class='ee-k'>2:</span><span class='ee-v'>354885</span></li><li><span class='ee-k'>3:</span><span class='ee-v'>0</span></li><li><span class='ee-k'>4:</span><span class='ee-v'>-30</span></li><li><span class='ee-k'>5:</span><span class='ee-v'>4582515</span></li></ul></li><li><label class='ee-shut'>data_type: float<input type='checkbox' class='ee-toggle'></label><ul><li><span class='ee-k'>type:</span><span class='ee-v'>PixelType</span></li><li><span class='ee-k'>precision:</span><span class='ee-v'>float</span></li></ul></li><li><label class='ee-shut'>dimensions: [7761, 7881]<input type='checkbox' class='ee-toggle'></label><ul><li><span class='ee-k'>0:</span><span class='ee-v'>7761</span></li><li><span class='ee-k'>1:</span><span class='ee-v'>7881</span></li></ul></li></ul></li><li><label class='ee-shut'>2: \"B3\", float, EPSG:32650, 7761x7881 px<input type='checkbox' class='ee-toggle'></label><ul><li><span class='ee-k'>id:</span><span class='ee-v'>B3</span></li><li><span class='ee-k'>crs:</span><span class='ee-v'>EPSG:32650</span></li><li><label class='ee-shut'>crs_transform: [30, 0, 354885, 0, -30, 4582515]<input type='checkbox' class='ee-toggle'></label><ul><li><span class='ee-k'>0:</span><span class='ee-v'>30</span></li><li><span class='ee-k'>1:</span><span class='ee-v'>0</span></li><li><span class='ee-k'>2:</span><span class='ee-v'>354885</span></li><li><span class='ee-k'>3:</span><span class='ee-v'>0</span></li><li><span class='ee-k'>4:</span><span class='ee-v'>-30</span></li><li><span class='ee-k'>5:</span><span class='ee-v'>4582515</span></li></ul></li><li><label class='ee-shut'>data_type: float<input type='checkbox' class='ee-toggle'></label><ul><li><span class='ee-k'>type:</span><span class='ee-v'>PixelType</span></li><li><span class='ee-k'>precision:</span><span class='ee-v'>float</span></li></ul></li><li><label class='ee-shut'>dimensions: [7761, 7881]<input type='checkbox' class='ee-toggle'></label><ul><li><span class='ee-k'>0:</span><span class='ee-v'>7761</span></li><li><span class='ee-k'>1:</span><span class='ee-v'>7881</span></li></ul></li></ul></li><li><label class='ee-shut'>3: \"B4\", float, EPSG:32650, 7761x7881 px<input type='checkbox' class='ee-toggle'></label><ul><li><span class='ee-k'>id:</span><span class='ee-v'>B4</span></li><li><span class='ee-k'>crs:</span><span class='ee-v'>EPSG:32650</span></li><li><label class='ee-shut'>crs_transform: [30, 0, 354885, 0, -30, 4582515]<input type='checkbox' class='ee-toggle'></label><ul><li><span class='ee-k'>0:</span><span class='ee-v'>30</span></li><li><span class='ee-k'>1:</span><span class='ee-v'>0</span></li><li><span class='ee-k'>2:</span><span class='ee-v'>354885</span></li><li><span class='ee-k'>3:</span><span class='ee-v'>0</span></li><li><span class='ee-k'>4:</span><span class='ee-v'>-30</span></li><li><span class='ee-k'>5:</span><span class='ee-v'>4582515</span></li></ul></li><li><label class='ee-shut'>data_type: float<input type='checkbox' class='ee-toggle'></label><ul><li><span class='ee-k'>type:</span><span class='ee-v'>PixelType</span></li><li><span class='ee-k'>precision:</span><span class='ee-v'>float</span></li></ul></li><li><label class='ee-shut'>dimensions: [7761, 7881]<input type='checkbox' class='ee-toggle'></label><ul><li><span class='ee-k'>0:</span><span class='ee-v'>7761</span></li><li><span class='ee-k'>1:</span><span class='ee-v'>7881</span></li></ul></li></ul></li><li><label class='ee-shut'>4: \"B5\", float, EPSG:32650, 7761x7881 px<input type='checkbox' class='ee-toggle'></label><ul><li><span class='ee-k'>id:</span><span class='ee-v'>B5</span></li><li><span class='ee-k'>crs:</span><span class='ee-v'>EPSG:32650</span></li><li><label class='ee-shut'>crs_transform: [30, 0, 354885, 0, -30, 4582515]<input type='checkbox' class='ee-toggle'></label><ul><li><span class='ee-k'>0:</span><span class='ee-v'>30</span></li><li><span class='ee-k'>1:</span><span class='ee-v'>0</span></li><li><span class='ee-k'>2:</span><span class='ee-v'>354885</span></li><li><span class='ee-k'>3:</span><span class='ee-v'>0</span></li><li><span class='ee-k'>4:</span><span class='ee-v'>-30</span></li><li><span class='ee-k'>5:</span><span class='ee-v'>4582515</span></li></ul></li><li><label class='ee-shut'>data_type: float<input type='checkbox' class='ee-toggle'></label><ul><li><span class='ee-k'>type:</span><span class='ee-v'>PixelType</span></li><li><span class='ee-k'>precision:</span><span class='ee-v'>float</span></li></ul></li><li><label class='ee-shut'>dimensions: [7761, 7881]<input type='checkbox' class='ee-toggle'></label><ul><li><span class='ee-k'>0:</span><span class='ee-v'>7761</span></li><li><span class='ee-k'>1:</span><span class='ee-v'>7881</span></li></ul></li></ul></li><li><label class='ee-shut'>5: \"B6\", float, EPSG:32650, 7761x7881 px<input type='checkbox' class='ee-toggle'></label><ul><li><span class='ee-k'>id:</span><span class='ee-v'>B6</span></li><li><span class='ee-k'>crs:</span><span class='ee-v'>EPSG:32650</span></li><li><label class='ee-shut'>crs_transform: [30, 0, 354885, 0, -30, 4582515]<input type='checkbox' class='ee-toggle'></label><ul><li><span class='ee-k'>0:</span><span class='ee-v'>30</span></li><li><span class='ee-k'>1:</span><span class='ee-v'>0</span></li><li><span class='ee-k'>2:</span><span class='ee-v'>354885</span></li><li><span class='ee-k'>3:</span><span class='ee-v'>0</span></li><li><span class='ee-k'>4:</span><span class='ee-v'>-30</span></li><li><span class='ee-k'>5:</span><span class='ee-v'>4582515</span></li></ul></li><li><label class='ee-shut'>data_type: float<input type='checkbox' class='ee-toggle'></label><ul><li><span class='ee-k'>type:</span><span class='ee-v'>PixelType</span></li><li><span class='ee-k'>precision:</span><span class='ee-v'>float</span></li></ul></li><li><label class='ee-shut'>dimensions: [7761, 7881]<input type='checkbox' class='ee-toggle'></label><ul><li><span class='ee-k'>0:</span><span class='ee-v'>7761</span></li><li><span class='ee-k'>1:</span><span class='ee-v'>7881</span></li></ul></li></ul></li><li><label class='ee-shut'>6: \"B7\", float, EPSG:32650, 7761x7881 px<input type='checkbox' class='ee-toggle'></label><ul><li><span class='ee-k'>id:</span><span class='ee-v'>B7</span></li><li><span class='ee-k'>crs:</span><span class='ee-v'>EPSG:32650</span></li><li><label class='ee-shut'>crs_transform: [30, 0, 354885, 0, -30, 4582515]<input type='checkbox' class='ee-toggle'></label><ul><li><span class='ee-k'>0:</span><span class='ee-v'>30</span></li><li><span class='ee-k'>1:</span><span class='ee-v'>0</span></li><li><span class='ee-k'>2:</span><span class='ee-v'>354885</span></li><li><span class='ee-k'>3:</span><span class='ee-v'>0</span></li><li><span class='ee-k'>4:</span><span class='ee-v'>-30</span></li><li><span class='ee-k'>5:</span><span class='ee-v'>4582515</span></li></ul></li><li><label class='ee-shut'>data_type: float<input type='checkbox' class='ee-toggle'></label><ul><li><span class='ee-k'>type:</span><span class='ee-v'>PixelType</span></li><li><span class='ee-k'>precision:</span><span class='ee-v'>float</span></li></ul></li><li><label class='ee-shut'>dimensions: [7761, 7881]<input type='checkbox' class='ee-toggle'></label><ul><li><span class='ee-k'>0:</span><span class='ee-v'>7761</span></li><li><span class='ee-k'>1:</span><span class='ee-v'>7881</span></li></ul></li></ul></li><li><label class='ee-shut'>7: \"B8\", float, EPSG:32650, 15521x15761 px<input type='checkbox' class='ee-toggle'></label><ul><li><span class='ee-k'>id:</span><span class='ee-v'>B8</span></li><li><span class='ee-k'>crs:</span><span class='ee-v'>EPSG:32650</span></li><li><label class='ee-shut'>crs_transform: [15, 0, 354892.5, 0, -15, 4582507.5]<input type='checkbox' class='ee-toggle'></label><ul><li><span class='ee-k'>0:</span><span class='ee-v'>15</span></li><li><span class='ee-k'>1:</span><span class='ee-v'>0</span></li><li><span class='ee-k'>2:</span><span class='ee-v'>354892.5</span></li><li><span class='ee-k'>3:</span><span class='ee-v'>0</span></li><li><span class='ee-k'>4:</span><span class='ee-v'>-15</span></li><li><span class='ee-k'>5:</span><span class='ee-v'>4582507.5</span></li></ul></li><li><label class='ee-shut'>data_type: float<input type='checkbox' class='ee-toggle'></label><ul><li><span class='ee-k'>type:</span><span class='ee-v'>PixelType</span></li><li><span class='ee-k'>precision:</span><span class='ee-v'>float</span></li></ul></li><li><label class='ee-shut'>dimensions: [15521, 15761]<input type='checkbox' class='ee-toggle'></label><ul><li><span class='ee-k'>0:</span><span class='ee-v'>15521</span></li><li><span class='ee-k'>1:</span><span class='ee-v'>15761</span></li></ul></li></ul></li><li><label class='ee-shut'>8: \"B9\", float, EPSG:32650, 7761x7881 px<input type='checkbox' class='ee-toggle'></label><ul><li><span class='ee-k'>id:</span><span class='ee-v'>B9</span></li><li><span class='ee-k'>crs:</span><span class='ee-v'>EPSG:32650</span></li><li><label class='ee-shut'>crs_transform: [30, 0, 354885, 0, -30, 4582515]<input type='checkbox' class='ee-toggle'></label><ul><li><span class='ee-k'>0:</span><span class='ee-v'>30</span></li><li><span class='ee-k'>1:</span><span class='ee-v'>0</span></li><li><span class='ee-k'>2:</span><span class='ee-v'>354885</span></li><li><span class='ee-k'>3:</span><span class='ee-v'>0</span></li><li><span class='ee-k'>4:</span><span class='ee-v'>-30</span></li><li><span class='ee-k'>5:</span><span class='ee-v'>4582515</span></li></ul></li><li><label class='ee-shut'>data_type: float<input type='checkbox' class='ee-toggle'></label><ul><li><span class='ee-k'>type:</span><span class='ee-v'>PixelType</span></li><li><span class='ee-k'>precision:</span><span class='ee-v'>float</span></li></ul></li><li><label class='ee-shut'>dimensions: [7761, 7881]<input type='checkbox' class='ee-toggle'></label><ul><li><span class='ee-k'>0:</span><span class='ee-v'>7761</span></li><li><span class='ee-k'>1:</span><span class='ee-v'>7881</span></li></ul></li></ul></li><li><label class='ee-shut'>9: \"B10\", float, EPSG:32650, 7761x7881 px<input type='checkbox' class='ee-toggle'></label><ul><li><span class='ee-k'>id:</span><span class='ee-v'>B10</span></li><li><span class='ee-k'>crs:</span><span class='ee-v'>EPSG:32650</span></li><li><label class='ee-shut'>crs_transform: [30, 0, 354885, 0, -30, 4582515]<input type='checkbox' class='ee-toggle'></label><ul><li><span class='ee-k'>0:</span><span class='ee-v'>30</span></li><li><span class='ee-k'>1:</span><span class='ee-v'>0</span></li><li><span class='ee-k'>2:</span><span class='ee-v'>354885</span></li><li><span class='ee-k'>3:</span><span class='ee-v'>0</span></li><li><span class='ee-k'>4:</span><span class='ee-v'>-30</span></li><li><span class='ee-k'>5:</span><span class='ee-v'>4582515</span></li></ul></li><li><label class='ee-shut'>data_type: float<input type='checkbox' class='ee-toggle'></label><ul><li><span class='ee-k'>type:</span><span class='ee-v'>PixelType</span></li><li><span class='ee-k'>precision:</span><span class='ee-v'>float</span></li></ul></li><li><label class='ee-shut'>dimensions: [7761, 7881]<input type='checkbox' class='ee-toggle'></label><ul><li><span class='ee-k'>0:</span><span class='ee-v'>7761</span></li><li><span class='ee-k'>1:</span><span class='ee-v'>7881</span></li></ul></li></ul></li><li><label class='ee-shut'>10: \"B11\", float, EPSG:32650, 7761x7881 px<input type='checkbox' class='ee-toggle'></label><ul><li><span class='ee-k'>id:</span><span class='ee-v'>B11</span></li><li><span class='ee-k'>crs:</span><span class='ee-v'>EPSG:32650</span></li><li><label class='ee-shut'>crs_transform: [30, 0, 354885, 0, -30, 4582515]<input type='checkbox' class='ee-toggle'></label><ul><li><span class='ee-k'>0:</span><span class='ee-v'>30</span></li><li><span class='ee-k'>1:</span><span class='ee-v'>0</span></li><li><span class='ee-k'>2:</span><span class='ee-v'>354885</span></li><li><span class='ee-k'>3:</span><span class='ee-v'>0</span></li><li><span class='ee-k'>4:</span><span class='ee-v'>-30</span></li><li><span class='ee-k'>5:</span><span class='ee-v'>4582515</span></li></ul></li><li><label class='ee-shut'>data_type: float<input type='checkbox' class='ee-toggle'></label><ul><li><span class='ee-k'>type:</span><span class='ee-v'>PixelType</span></li><li><span class='ee-k'>precision:</span><span class='ee-v'>float</span></li></ul></li><li><label class='ee-shut'>dimensions: [7761, 7881]<input type='checkbox' class='ee-toggle'></label><ul><li><span class='ee-k'>0:</span><span class='ee-v'>7761</span></li><li><span class='ee-k'>1:</span><span class='ee-v'>7881</span></li></ul></li></ul></li><li><label class='ee-shut'>11: \"BQA\", unsigned int16, EPSG:32650, 7761x7881 px<input type='checkbox' class='ee-toggle'></label><ul><li><span class='ee-k'>id:</span><span class='ee-v'>BQA</span></li><li><span class='ee-k'>crs:</span><span class='ee-v'>EPSG:32650</span></li><li><label class='ee-shut'>crs_transform: [30, 0, 354885, 0, -30, 4582515]<input type='checkbox' class='ee-toggle'></label><ul><li><span class='ee-k'>0:</span><span class='ee-v'>30</span></li><li><span class='ee-k'>1:</span><span class='ee-v'>0</span></li><li><span class='ee-k'>2:</span><span class='ee-v'>354885</span></li><li><span class='ee-k'>3:</span><span class='ee-v'>0</span></li><li><span class='ee-k'>4:</span><span class='ee-v'>-30</span></li><li><span class='ee-k'>5:</span><span class='ee-v'>4582515</span></li></ul></li><li><label class='ee-shut'>data_type: unsigned int16<input type='checkbox' class='ee-toggle'></label><ul><li><span class='ee-k'>type:</span><span class='ee-v'>PixelType</span></li><li><span class='ee-k'>max:</span><span class='ee-v'>65535</span></li><li><span class='ee-k'>min:</span><span class='ee-v'>0</span></li><li><span class='ee-k'>precision:</span><span class='ee-v'>int</span></li></ul></li><li><label class='ee-shut'>dimensions: [7761, 7881]<input type='checkbox' class='ee-toggle'></label><ul><li><span class='ee-k'>0:</span><span class='ee-v'>7761</span></li><li><span class='ee-k'>1:</span><span class='ee-v'>7881</span></li></ul></li></ul></li></ul></li><li><label class='ee-shut'>properties: Object (119 properties)<input type='checkbox' class='ee-toggle'></label><ul><li><span class='ee-k'>BPF_NAME_OLI:</span><span class='ee-v'>LO8BPF20140515024256_20140515030756.01</span></li><li><span class='ee-k'>BPF_NAME_TIRS:</span><span class='ee-v'>LT8BPF20140515023902_20140515030849.01</span></li><li><span class='ee-k'>CLOUD_COVER:</span><span class='ee-v'>0.41999998688697815</span></li><li><span class='ee-k'>CLOUD_COVER_LAND:</span><span class='ee-v'>0.41999998688697815</span></li><li><span class='ee-k'>COLLECTION_CATEGORY:</span><span class='ee-v'>T1</span></li><li><span class='ee-k'>COLLECTION_NUMBER:</span><span class='ee-v'>1</span></li><li><span class='ee-k'>CPF_NAME:</span><span class='ee-v'>LC08CPF_20140401_20140630_01.01</span></li><li><span class='ee-k'>DATA_TYPE:</span><span class='ee-v'>L1TP</span></li><li><span class='ee-k'>DATE_ACQUIRED:</span><span class='ee-v'>2014-05-15</span></li><li><span class='ee-k'>DATUM:</span><span class='ee-v'>WGS84</span></li><li><span class='ee-k'>EARTH_SUN_DISTANCE:</span><span class='ee-v'>1.0107589960098267</span></li><li><span class='ee-k'>ELEVATION_SOURCE:</span><span class='ee-v'>GLS2000</span></li><li><span class='ee-k'>ELLIPSOID:</span><span class='ee-v'>WGS84</span></li><li><span class='ee-k'>FILE_DATE:</span><span class='ee-v'>1527105135000</span></li><li><span class='ee-k'>GEOMETRIC_RMSE_MODEL:</span><span class='ee-v'>6.945000171661377</span></li><li><span class='ee-k'>GEOMETRIC_RMSE_MODEL_X:</span><span class='ee-v'>4.936999797821045</span></li><li><span class='ee-k'>GEOMETRIC_RMSE_MODEL_Y:</span><span class='ee-v'>4.885000228881836</span></li><li><span class='ee-k'>GEOMETRIC_RMSE_VERIFY:</span><span class='ee-v'>5.360000133514404</span></li><li><span class='ee-k'>GRID_CELL_SIZE_PANCHROMATIC:</span><span class='ee-v'>15</span></li><li><span class='ee-k'>GRID_CELL_SIZE_REFLECTIVE:</span><span class='ee-v'>30</span></li><li><span class='ee-k'>GRID_CELL_SIZE_THERMAL:</span><span class='ee-v'>30</span></li><li><span class='ee-k'>GROUND_CONTROL_POINTS_MODEL:</span><span class='ee-v'>358</span></li><li><span class='ee-k'>GROUND_CONTROL_POINTS_VERIFY:</span><span class='ee-v'>99</span></li><li><span class='ee-k'>GROUND_CONTROL_POINTS_VERSION:</span><span class='ee-v'>4</span></li><li><span class='ee-k'>IMAGE_QUALITY_OLI:</span><span class='ee-v'>9</span></li><li><span class='ee-k'>IMAGE_QUALITY_TIRS:</span><span class='ee-v'>9</span></li><li><span class='ee-k'>K1_CONSTANT_BAND_10:</span><span class='ee-v'>774.8853149414062</span></li><li><span class='ee-k'>K1_CONSTANT_BAND_11:</span><span class='ee-v'>480.8883056640625</span></li><li><span class='ee-k'>K2_CONSTANT_BAND_10:</span><span class='ee-v'>1321.078857421875</span></li><li><span class='ee-k'>K2_CONSTANT_BAND_11:</span><span class='ee-v'>1201.1441650390625</span></li><li><span class='ee-k'>LANDSAT_PRODUCT_ID:</span><span class='ee-v'>LC08_L1TP_123032_20140515_20180523_01_T1</span></li><li><span class='ee-k'>LANDSAT_SCENE_ID:</span><span class='ee-v'>LC81230322014135LGN02</span></li><li><span class='ee-k'>MAP_PROJECTION:</span><span class='ee-v'>UTM</span></li><li><span class='ee-k'>NADIR_OFFNADIR:</span><span class='ee-v'>NADIR</span></li><li><span class='ee-k'>ORIENTATION:</span><span class='ee-v'>NORTH_UP</span></li><li><span class='ee-k'>PANCHROMATIC_LINES:</span><span class='ee-v'>15761</span></li><li><span class='ee-k'>PANCHROMATIC_SAMPLES:</span><span class='ee-v'>15521</span></li><li><span class='ee-k'>PROCESSING_SOFTWARE_VERSION:</span><span class='ee-v'>LPGS_13.1.0</span></li><li><span class='ee-k'>RADIANCE_ADD_BAND_1:</span><span class='ee-v'>-61.44939041137695</span></li><li><span class='ee-k'>RADIANCE_ADD_BAND_10:</span><span class='ee-v'>0.10000000149011612</span></li><li><span class='ee-k'>RADIANCE_ADD_BAND_11:</span><span class='ee-v'>0.10000000149011612</span></li><li><span class='ee-k'>RADIANCE_ADD_BAND_2:</span><span class='ee-v'>-62.924930572509766</span></li><li><span class='ee-k'>RADIANCE_ADD_BAND_3:</span><span class='ee-v'>-57.984779357910156</span></li><li><span class='ee-k'>RADIANCE_ADD_BAND_4:</span><span class='ee-v'>-48.89604187011719</span></li><li><span class='ee-k'>RADIANCE_ADD_BAND_5:</span><span class='ee-v'>-29.921939849853516</span></li><li><span class='ee-k'>RADIANCE_ADD_BAND_6:</span><span class='ee-v'>-7.441309928894043</span></li><li><span class='ee-k'>RADIANCE_ADD_BAND_7:</span><span class='ee-v'>-2.508120059967041</span></li><li><span class='ee-k'>RADIANCE_ADD_BAND_8:</span><span class='ee-v'>-55.33686065673828</span></li><li><span class='ee-k'>RADIANCE_ADD_BAND_9:</span><span class='ee-v'>-11.694169998168945</span></li><li><span class='ee-k'>RADIANCE_MULT_BAND_1:</span><span class='ee-v'>0.01228999998420477</span></li><li><span class='ee-k'>RADIANCE_MULT_BAND_10:</span><span class='ee-v'>0.00033420001273043454</span></li><li><span class='ee-k'>RADIANCE_MULT_BAND_11:</span><span class='ee-v'>0.00033420001273043454</span></li><li><span class='ee-k'>RADIANCE_MULT_BAND_2:</span><span class='ee-v'>0.01258500013500452</span></li><li><span class='ee-k'>RADIANCE_MULT_BAND_3:</span><span class='ee-v'>0.011597000062465668</span></li><li><span class='ee-k'>RADIANCE_MULT_BAND_4:</span><span class='ee-v'>0.009779199957847595</span></li><li><span class='ee-k'>RADIANCE_MULT_BAND_5:</span><span class='ee-v'>0.005984399933367968</span></li><li><span class='ee-k'>RADIANCE_MULT_BAND_6:</span><span class='ee-v'>0.0014883000403642654</span></li><li><span class='ee-k'>RADIANCE_MULT_BAND_7:</span><span class='ee-v'>0.0005016200011596084</span></li><li><span class='ee-k'>RADIANCE_MULT_BAND_8:</span><span class='ee-v'>0.011067000217735767</span></li><li><span class='ee-k'>RADIANCE_MULT_BAND_9:</span><span class='ee-v'>0.002338800113648176</span></li><li><span class='ee-k'>REFLECTANCE_ADD_BAND_1:</span><span class='ee-v'>-0.10000000149011612</span></li><li><span class='ee-k'>REFLECTANCE_ADD_BAND_2:</span><span class='ee-v'>-0.10000000149011612</span></li><li><span class='ee-k'>REFLECTANCE_ADD_BAND_3:</span><span class='ee-v'>-0.10000000149011612</span></li><li><span class='ee-k'>REFLECTANCE_ADD_BAND_4:</span><span class='ee-v'>-0.10000000149011612</span></li><li><span class='ee-k'>REFLECTANCE_ADD_BAND_5:</span><span class='ee-v'>-0.10000000149011612</span></li><li><span class='ee-k'>REFLECTANCE_ADD_BAND_6:</span><span class='ee-v'>-0.10000000149011612</span></li><li><span class='ee-k'>REFLECTANCE_ADD_BAND_7:</span><span class='ee-v'>-0.10000000149011612</span></li><li><span class='ee-k'>REFLECTANCE_ADD_BAND_8:</span><span class='ee-v'>-0.10000000149011612</span></li><li><span class='ee-k'>REFLECTANCE_ADD_BAND_9:</span><span class='ee-v'>-0.10000000149011612</span></li><li><span class='ee-k'>REFLECTANCE_MULT_BAND_1:</span><span class='ee-v'>1.9999999494757503e-05</span></li><li><span class='ee-k'>REFLECTANCE_MULT_BAND_2:</span><span class='ee-v'>1.9999999494757503e-05</span></li><li><span class='ee-k'>REFLECTANCE_MULT_BAND_3:</span><span class='ee-v'>1.9999999494757503e-05</span></li><li><span class='ee-k'>REFLECTANCE_MULT_BAND_4:</span><span class='ee-v'>1.9999999494757503e-05</span></li><li><span class='ee-k'>REFLECTANCE_MULT_BAND_5:</span><span class='ee-v'>1.9999999494757503e-05</span></li><li><span class='ee-k'>REFLECTANCE_MULT_BAND_6:</span><span class='ee-v'>1.9999999494757503e-05</span></li><li><span class='ee-k'>REFLECTANCE_MULT_BAND_7:</span><span class='ee-v'>1.9999999494757503e-05</span></li><li><span class='ee-k'>REFLECTANCE_MULT_BAND_8:</span><span class='ee-v'>1.9999999494757503e-05</span></li><li><span class='ee-k'>REFLECTANCE_MULT_BAND_9:</span><span class='ee-v'>1.9999999494757503e-05</span></li><li><span class='ee-k'>REFLECTIVE_LINES:</span><span class='ee-v'>7881</span></li><li><span class='ee-k'>REFLECTIVE_SAMPLES:</span><span class='ee-v'>7761</span></li><li><span class='ee-k'>REQUEST_ID:</span><span class='ee-v'>0501805237663_00015</span></li><li><span class='ee-k'>RESAMPLING_OPTION:</span><span class='ee-v'>CUBIC_CONVOLUTION</span></li><li><span class='ee-k'>RLUT_FILE_NAME:</span><span class='ee-v'>LC08RLUT_20130211_20150302_01_11.h5</span></li><li><span class='ee-k'>ROLL_ANGLE:</span><span class='ee-v'>-0.0010000000474974513</span></li><li><span class='ee-k'>SATURATION_BAND_1:</span><span class='ee-v'>N</span></li><li><span class='ee-k'>SATURATION_BAND_2:</span><span class='ee-v'>Y</span></li><li><span class='ee-k'>SATURATION_BAND_3:</span><span class='ee-v'>Y</span></li><li><span class='ee-k'>SATURATION_BAND_4:</span><span class='ee-v'>Y</span></li><li><span class='ee-k'>SATURATION_BAND_5:</span><span class='ee-v'>Y</span></li><li><span class='ee-k'>SATURATION_BAND_6:</span><span class='ee-v'>Y</span></li><li><span class='ee-k'>SATURATION_BAND_7:</span><span class='ee-v'>Y</span></li><li><span class='ee-k'>SATURATION_BAND_8:</span><span class='ee-v'>N</span></li><li><span class='ee-k'>SATURATION_BAND_9:</span><span class='ee-v'>N</span></li><li><span class='ee-k'>SCENE_CENTER_TIME:</span><span class='ee-v'>02:53:04.3063030Z</span></li><li><span class='ee-k'>SENSOR_ID:</span><span class='ee-v'>OLI_TIRS</span></li><li><span class='ee-k'>SPACECRAFT_ID:</span><span class='ee-v'>LANDSAT_8</span></li><li><span class='ee-k'>STATION_ID:</span><span class='ee-v'>LGN</span></li><li><span class='ee-k'>SUN_AZIMUTH:</span><span class='ee-v'>136.98165893554688</span></li><li><span class='ee-k'>SUN_ELEVATION:</span><span class='ee-v'>62.92536163330078</span></li><li><span class='ee-k'>TARGET_WRS_PATH:</span><span class='ee-v'>123</span></li><li><span class='ee-k'>TARGET_WRS_ROW:</span><span class='ee-v'>32</span></li><li><span class='ee-k'>THERMAL_LINES:</span><span class='ee-v'>7881</span></li><li><span class='ee-k'>THERMAL_SAMPLES:</span><span class='ee-v'>7761</span></li><li><span class='ee-k'>TIRS_SSM_MODEL:</span><span class='ee-v'>ACTUAL</span></li><li><span class='ee-k'>TIRS_SSM_POSITION_STATUS:</span><span class='ee-v'>NOMINAL</span></li><li><span class='ee-k'>TIRS_STRAY_LIGHT_CORRECTION_SOURCE:</span><span class='ee-v'>TIRS</span></li><li><span class='ee-k'>TRUNCATION_OLI:</span><span class='ee-v'>UPPER</span></li><li><span class='ee-k'>UTM_ZONE:</span><span class='ee-v'>50</span></li><li><span class='ee-k'>WRS_PATH:</span><span class='ee-v'>123</span></li><li><span class='ee-k'>WRS_ROW:</span><span class='ee-v'>32</span></li><li><span class='ee-k'>google:registration_count:</span><span class='ee-v'>80</span></li><li><span class='ee-k'>google:registration_offset_x:</span><span class='ee-v'>-467.80242919921875</span></li><li><span class='ee-k'>google:registration_offset_y:</span><span class='ee-v'>178.21096801757812</span></li><li><span class='ee-k'>google:registration_ratio:</span><span class='ee-v'>0.6106870174407959</span></li><li><span class='ee-k'>system:asset_size:</span><span class='ee-v'>1239283132</span></li><li><label class='ee-shut'>system:footprint: LinearRing (21 vertices)<input type='checkbox' class='ee-toggle'></label><ul><li><span class='ee-k'>type:</span><span class='ee-v'>LinearRing</span></li><li><label class='ee-shut'>coordinates: List (21 elements)<input type='checkbox' class='ee-toggle'></label><ul><li><label class='ee-shut'>0: [118.02901741753556, 40.94682567793425]<input type='checkbox' class='ee-toggle'></label><ul><li><span class='ee-k'>0:</span><span class='ee-v'>118.02901741753556</span></li><li><span class='ee-k'>1:</span><span class='ee-v'>40.94682567793425</span></li></ul></li><li><label class='ee-shut'>1: [118.0398858554032, 40.97919738539307]<input type='checkbox' class='ee-toggle'></label><ul><li><span class='ee-k'>0:</span><span class='ee-v'>118.0398858554032</span></li><li><span class='ee-k'>1:</span><span class='ee-v'>40.97919738539307</span></li></ul></li><li><label class='ee-shut'>2: [118.03851074339742, 40.97973408508816]<input type='checkbox' class='ee-toggle'></label><ul><li><span class='ee-k'>0:</span><span class='ee-v'>118.03851074339742</span></li><li><span class='ee-k'>1:</span><span class='ee-v'>40.97973408508816</span></li></ul></li><li><label class='ee-shut'>3: [118.01408685721698, 40.984592961286495]<input type='checkbox' class='ee-toggle'></label><ul><li><span class='ee-k'>0:</span><span class='ee-v'>118.01408685721698</span></li><li><span class='ee-k'>1:</span><span class='ee-v'>40.984592961286495</span></li></ul></li><li><label class='ee-shut'>4: [117.58513825137842, 41.067246801462865]<input type='checkbox' class='ee-toggle'></label><ul><li><span class='ee-k'>0:</span><span class='ee-v'>117.58513825137842</span></li><li><span class='ee-k'>1:</span><span class='ee-v'>41.067246801462865</span></li></ul></li><li><label class='ee-shut'>5: [116.13926988193154, 41.332643814268344]<input type='checkbox' class='ee-toggle'></label><ul><li><span class='ee-k'>0:</span><span class='ee-v'>116.13926988193154</span></li><li><span class='ee-k'>1:</span><span class='ee-v'>41.332643814268344</span></li></ul></li><li><label class='ee-shut'>6: [115.83190628700491, 41.38644913677111]<input type='checkbox' class='ee-toggle'></label><ul><li><span class='ee-k'>0:</span><span class='ee-v'>115.83190628700491</span></li><li><span class='ee-k'>1:</span><span class='ee-v'>41.38644913677111</span></li></ul></li><li><label class='ee-shut'>7: [115.7479528813562, 41.11493249796797]<input type='checkbox' class='ee-toggle'></label><ul><li><span class='ee-k'>0:</span><span class='ee-v'>115.7479528813562</span></li><li><span class='ee-k'>1:</span><span class='ee-v'>41.11493249796797</span></li></ul></li><li><label class='ee-shut'>8: [115.53286506707212, 40.40705383488886]<input type='checkbox' class='ee-toggle'></label><ul><li><span class='ee-k'>0:</span><span class='ee-v'>115.53286506707212</span></li><li><span class='ee-k'>1:</span><span class='ee-v'>40.40705383488886</span></li></ul></li><li><label class='ee-shut'>9: [115.31756124123001, 39.68359631545544]<input type='checkbox' class='ee-toggle'></label><ul><li><span class='ee-k'>0:</span><span class='ee-v'>115.31756124123001</span></li><li><span class='ee-k'>1:</span><span class='ee-v'>39.68359631545544</span></li></ul></li><li><label class='ee-shut'>10: [115.31353991702737, 39.66887504179528]<input type='checkbox' class='ee-toggle'></label><ul><li><span class='ee-k'>0:</span><span class='ee-v'>115.31353991702737</span></li><li><span class='ee-k'>1:</span><span class='ee-v'>39.66887504179528</span></li></ul></li><li><label class='ee-shut'>11: [115.39983139213399, 39.65349281612747]<input type='checkbox' class='ee-toggle'></label><ul><li><span class='ee-k'>0:</span><span class='ee-v'>115.39983139213399</span></li><li><span class='ee-k'>1:</span><span class='ee-v'>39.65349281612747</span></li></ul></li><li><label class='ee-shut'>12: [117.13851821926576, 39.32870014338317]<input type='checkbox' class='ee-toggle'></label><ul><li><span class='ee-k'>0:</span><span class='ee-v'>117.13851821926576</span></li><li><span class='ee-k'>1:</span><span class='ee-v'>39.32870014338317</span></li></ul></li><li><label class='ee-shut'>13: [117.46862405948238, 39.263763540620985]<input type='checkbox' class='ee-toggle'></label><ul><li><span class='ee-k'>0:</span><span class='ee-v'>117.46862405948238</span></li><li><span class='ee-k'>1:</span><span class='ee-v'>39.263763540620985</span></li></ul></li><li><label class='ee-shut'>14: [117.54137407325652, 39.485912286173665]<input type='checkbox' class='ee-toggle'></label><ul><li><span class='ee-k'>0:</span><span class='ee-v'>117.54137407325652</span></li><li><span class='ee-k'>1:</span><span class='ee-v'>39.485912286173665</span></li></ul></li><li><label class='ee-shut'>15: [117.61833666945226, 39.719693762523995]<input type='checkbox' class='ee-toggle'></label><ul><li><span class='ee-k'>0:</span><span class='ee-v'>117.61833666945226</span></li><li><span class='ee-k'>1:</span><span class='ee-v'>39.719693762523995</span></li></ul></li><li><label class='ee-shut'>16: [117.68698599833006, 39.92713231100529]<input type='checkbox' class='ee-toggle'></label><ul><li><span class='ee-k'>0:</span><span class='ee-v'>117.68698599833006</span></li><li><span class='ee-k'>1:</span><span class='ee-v'>39.92713231100529</span></li></ul></li><li><label class='ee-shut'>17: [117.74294827234439, 40.095454292747434]<input type='checkbox' class='ee-toggle'></label><ul><li><span class='ee-k'>0:</span><span class='ee-v'>117.74294827234439</span></li><li><span class='ee-k'>1:</span><span class='ee-v'>40.095454292747434</span></li></ul></li><li><label class='ee-shut'>18: [117.7704811647281, 40.17818549213697]<input type='checkbox' class='ee-toggle'></label><ul><li><span class='ee-k'>0:</span><span class='ee-v'>117.7704811647281</span></li><li><span class='ee-k'>1:</span><span class='ee-v'>40.17818549213697</span></li></ul></li><li><label class='ee-shut'>19: [117.99823853734908, 40.8554827017122]<input type='checkbox' class='ee-toggle'></label><ul><li><span class='ee-k'>0:</span><span class='ee-v'>117.99823853734908</span></li><li><span class='ee-k'>1:</span><span class='ee-v'>40.8554827017122</span></li></ul></li><li><label class='ee-shut'>20: [118.02901741753556, 40.94682567793425]<input type='checkbox' class='ee-toggle'></label><ul><li><span class='ee-k'>0:</span><span class='ee-v'>118.02901741753556</span></li><li><span class='ee-k'>1:</span><span class='ee-v'>40.94682567793425</span></li></ul></li></ul></li></ul></li><li><span class='ee-k'>system:index:</span><span class='ee-v'>LC08_123032_20140515</span></li><li><span class='ee-k'>system:time_end:</span><span class='ee-v'>1400122384306</span></li><li><span class='ee-k'>system:time_start:</span><span class='ee-v'>1400122384306</span></li></ul></li></ul></li></ul></div><script>function toggleHeader() {\n",
       "    const parent = this.parentElement;\n",
       "    parent.className = parent.className === \"ee-open\" ? \"ee-shut\" : \"ee-open\";\n",
       "}\n",
       "\n",
       "for (let c of document.getElementsByClassName(\"ee-toggle\")) {\n",
       "    c.onclick = toggleHeader;\n",
       "}</script></div>"
      ],
      "text/plain": [
       "<ee.image.Image at 0x130df1550>"
      ]
     },
     "execution_count": 33,
     "metadata": {},
     "output_type": "execute_result"
    }
   ],
   "source": [
    "landsat = ee.Image(\"LANDSAT/LC08/C01/T1_TOA/LC08_123032_20140515\")\n",
    "# landsat.getInfo()\n",
    "landsat"
   ]
  },
  {
   "cell_type": "code",
   "execution_count": 34,
   "metadata": {},
   "outputs": [
    {
     "data": {
      "text/html": [
       "\n",
       "            <style>\n",
       "                .geemap-dark {\n",
       "                    --jp-widgets-color: white;\n",
       "                    --jp-widgets-label-color: white;\n",
       "                    --jp-ui-font-color1: white;\n",
       "                    --jp-layout-color2: #454545;\n",
       "                    background-color: #383838;\n",
       "                }\n",
       "                    \n",
       "                .geemap-dark .jupyter-button {\n",
       "                    --jp-layout-color3: #383838;\n",
       "                }\n",
       "                \n",
       "                .geemap-colab {\n",
       "                    background-color: var(--colab-primary-surface-color, white);\n",
       "                }\n",
       "                    \n",
       "                .geemap-colab .jupyter-button {\n",
       "                    --jp-layout-color3: var(--colab-primary-surface-color, white);\n",
       "                }\n",
       "            </style>\n",
       "            "
      ],
      "text/plain": [
       "<IPython.core.display.HTML object>"
      ]
     },
     "metadata": {},
     "output_type": "display_data"
    }
   ],
   "source": [
    "iceland_center =  [64.9631, -19.0208]"
   ]
  },
  {
   "cell_type": "code",
   "execution_count": 106,
   "metadata": {},
   "outputs": [
    {
     "data": {
      "text/html": [
       "\n",
       "            <style>\n",
       "                .geemap-dark {\n",
       "                    --jp-widgets-color: white;\n",
       "                    --jp-widgets-label-color: white;\n",
       "                    --jp-ui-font-color1: white;\n",
       "                    --jp-layout-color2: #454545;\n",
       "                    background-color: #383838;\n",
       "                }\n",
       "                    \n",
       "                .geemap-dark .jupyter-button {\n",
       "                    --jp-layout-color3: #383838;\n",
       "                }\n",
       "                \n",
       "                .geemap-colab {\n",
       "                    background-color: var(--colab-primary-surface-color, white);\n",
       "                }\n",
       "                    \n",
       "                .geemap-colab .jupyter-button {\n",
       "                    --jp-layout-color3: var(--colab-primary-surface-color, white);\n",
       "                }\n",
       "            </style>\n",
       "            "
      ],
      "text/plain": [
       "<IPython.core.display.HTML object>"
      ]
     },
     "metadata": {},
     "output_type": "display_data"
    },
    {
     "data": {
      "application/vnd.jupyter.widget-view+json": {
       "model_id": "0fdc9d478cd3428eba654cdb8857aa7b",
       "version_major": 2,
       "version_minor": 0
      },
      "text/plain": [
       "Map(center=[64.9631, -19.0208], controls=(WidgetControl(options=['position', 'transparent_bg'], widget=SearchD…"
      ]
     },
     "execution_count": 106,
     "metadata": {},
     "output_type": "execute_result"
    }
   ],
   "source": [
    "m = geemap.Map(center=iceland_center, zoom=6)\n",
    "image = ee.Image(\"USGS/SRTMGL1_003\")\n",
    "vis_params = {\n",
    "    \"min\": 0,\n",
    "    \"max\": 6000,\n",
    "    \"palette\": \"terrain\"  # 'terrain'\n",
    "}\n",
    "m.add_layer(image, vis_params, \"SRTM\")\n",
    "m"
   ]
  },
  {
   "cell_type": "code",
   "execution_count": 67,
   "metadata": {},
   "outputs": [
    {
     "data": {
      "text/html": [
       "\n",
       "            <style>\n",
       "                .geemap-dark {\n",
       "                    --jp-widgets-color: white;\n",
       "                    --jp-widgets-label-color: white;\n",
       "                    --jp-ui-font-color1: white;\n",
       "                    --jp-layout-color2: #454545;\n",
       "                    background-color: #383838;\n",
       "                }\n",
       "                    \n",
       "                .geemap-dark .jupyter-button {\n",
       "                    --jp-layout-color3: #383838;\n",
       "                }\n",
       "                \n",
       "                .geemap-colab {\n",
       "                    background-color: var(--colab-primary-surface-color, white);\n",
       "                }\n",
       "                    \n",
       "                .geemap-colab .jupyter-button {\n",
       "                    --jp-layout-color3: var(--colab-primary-surface-color, white);\n",
       "                }\n",
       "            </style>\n",
       "            "
      ],
      "text/plain": [
       "<IPython.core.display.HTML object>"
      ]
     },
     "metadata": {},
     "output_type": "display_data"
    }
   ],
   "source": [
    "collection = ee.ImageCollection(\"COPERNICUS/S2_SR\")"
   ]
  },
  {
   "cell_type": "code",
   "execution_count": 71,
   "metadata": {
    "scrolled": true
   },
   "outputs": [
    {
     "data": {
      "text/html": [
       "\n",
       "            <style>\n",
       "                .geemap-dark {\n",
       "                    --jp-widgets-color: white;\n",
       "                    --jp-widgets-label-color: white;\n",
       "                    --jp-ui-font-color1: white;\n",
       "                    --jp-layout-color2: #454545;\n",
       "                    background-color: #383838;\n",
       "                }\n",
       "                    \n",
       "                .geemap-dark .jupyter-button {\n",
       "                    --jp-layout-color3: #383838;\n",
       "                }\n",
       "                \n",
       "                .geemap-colab {\n",
       "                    background-color: var(--colab-primary-surface-color, white);\n",
       "                }\n",
       "                    \n",
       "                .geemap-colab .jupyter-button {\n",
       "                    --jp-layout-color3: var(--colab-primary-surface-color, white);\n",
       "                }\n",
       "            </style>\n",
       "            "
      ],
      "text/plain": [
       "<IPython.core.display.HTML object>"
      ]
     },
     "metadata": {},
     "output_type": "display_data"
    },
    {
     "data": {
      "application/vnd.jupyter.widget-view+json": {
       "model_id": "e22c2177574348a09f21465abebccd3f",
       "version_major": 2,
       "version_minor": 0
      },
      "text/plain": [
       "Map(center=[17.7009, 83.277], controls=(WidgetControl(options=['position', 'transparent_bg'], widget=SearchDat…"
      ]
     },
     "execution_count": 71,
     "metadata": {},
     "output_type": "execute_result"
    }
   ],
   "source": [
    "m = geemap.Map()\n",
    "collection = ee.ImageCollection(\"COPERNICUS/S2_SR\")\n",
    "image = collection.median()\n",
    "\n",
    "vis = {\n",
    "    \"min\": 0.0,\n",
    "    \"max\": 3000,\n",
    "    \"bands\": [\"B4\", \"B3\", \"B2\"],\n",
    "}\n",
    "\n",
    "m.set_center(83.277, 17.7009, 12)\n",
    "m.add_layer(image, vis, \"Sentinel-2\")\n",
    "m"
   ]
  },
  {
   "cell_type": "code",
   "execution_count": 96,
   "metadata": {},
   "outputs": [
    {
     "data": {
      "text/html": [
       "\n",
       "            <style>\n",
       "                .geemap-dark {\n",
       "                    --jp-widgets-color: white;\n",
       "                    --jp-widgets-label-color: white;\n",
       "                    --jp-ui-font-color1: white;\n",
       "                    --jp-layout-color2: #454545;\n",
       "                    background-color: #383838;\n",
       "                }\n",
       "                    \n",
       "                .geemap-dark .jupyter-button {\n",
       "                    --jp-layout-color3: #383838;\n",
       "                }\n",
       "                \n",
       "                .geemap-colab {\n",
       "                    background-color: var(--colab-primary-surface-color, white);\n",
       "                }\n",
       "                    \n",
       "                .geemap-colab .jupyter-button {\n",
       "                    --jp-layout-color3: var(--colab-primary-surface-color, white);\n",
       "                }\n",
       "            </style>\n",
       "            "
      ],
      "text/plain": [
       "<IPython.core.display.HTML object>"
      ]
     },
     "metadata": {},
     "output_type": "display_data"
    },
    {
     "data": {
      "application/vnd.jupyter.widget-view+json": {
       "model_id": "10a1010b6c0748c18a2b2656d1fff327",
       "version_major": 2,
       "version_minor": 0
      },
      "text/plain": [
       "Map(center=[64.9631, -19.0208], controls=(WidgetControl(options=['position', 'transparent_bg'], widget=SearchD…"
      ]
     },
     "execution_count": 96,
     "metadata": {},
     "output_type": "execute_result"
    }
   ],
   "source": [
    "m = geemap.Map()\n",
    "collection = (\n",
    "    ee.ImageCollection(\"COPERNICUS/S2_SR\")\n",
    "    .filterDate(\"2023-01-01\", \"2024-01-01\")\n",
    "    .filter(ee.Filter.lt(\"CLOUDY_PIXEL_PERCENTAGE\", 8))\n",
    ")\n",
    "image = collection.median()\n",
    "\n",
    "vis = {\n",
    "    \"min\": 0.0,\n",
    "    \"max\": 3000,\n",
    "    \"bands\": [\"B4\", \"B3\", \"B2\"],\n",
    "}\n",
    "\n",
    "m.set_center(-19.0208, 64.9631, 6)\n",
    "m.add_layer(image, vis, \"Sentinel-2\")\n",
    "m"
   ]
  },
  {
   "cell_type": "code",
   "execution_count": 105,
   "metadata": {},
   "outputs": [
    {
     "data": {
      "text/html": [
       "\n",
       "            <style>\n",
       "                .geemap-dark {\n",
       "                    --jp-widgets-color: white;\n",
       "                    --jp-widgets-label-color: white;\n",
       "                    --jp-ui-font-color1: white;\n",
       "                    --jp-layout-color2: #454545;\n",
       "                    background-color: #383838;\n",
       "                }\n",
       "                    \n",
       "                .geemap-dark .jupyter-button {\n",
       "                    --jp-layout-color3: #383838;\n",
       "                }\n",
       "                \n",
       "                .geemap-colab {\n",
       "                    background-color: var(--colab-primary-surface-color, white);\n",
       "                }\n",
       "                    \n",
       "                .geemap-colab .jupyter-button {\n",
       "                    --jp-layout-color3: var(--colab-primary-surface-color, white);\n",
       "                }\n",
       "            </style>\n",
       "            "
      ],
      "text/plain": [
       "<IPython.core.display.HTML object>"
      ]
     },
     "metadata": {},
     "output_type": "display_data"
    },
    {
     "data": {
      "application/vnd.jupyter.widget-view+json": {
       "model_id": "6c57660ad99143f7ab17924bc143e3ae",
       "version_major": 2,
       "version_minor": 0
      },
      "text/plain": [
       "Map(center=[64.9631, -19.0208], controls=(WidgetControl(options=['position', 'transparent_bg'], widget=SearchD…"
      ]
     },
     "execution_count": 105,
     "metadata": {},
     "output_type": "execute_result"
    }
   ],
   "source": [
    "## Shapefiles of Power Plants In Iceland \n",
    "# Each power plant is geolocated and entries contain information on plant capacity, generation, ownership, and fuel type. As of June 2018, the database includes around 28,500 power plants from 164 countries. It will be continuously updated as data becomes available.\n",
    "# The methodology for the dataset creation is given in the World Resources Institute publication \"A Global Database of Power Plants\".\n",
    "m = geemap.Map()\n",
    "fc = ee.FeatureCollection(\"WRI/GPPD/power_plants\")\n",
    "m.set_center(-19.0208,64.9631, 6)\n",
    "m.add_layer(fc, {}, \"Power Plants\")\n",
    "m"
   ]
  },
  {
   "cell_type": "code",
   "execution_count": null,
   "metadata": {},
   "outputs": [],
   "source": []
  }
 ],
 "metadata": {
  "kernelspec": {
   "display_name": "Python 3 (ipykernel)",
   "language": "python",
   "name": "python3"
  },
  "language_info": {
   "codemirror_mode": {
    "name": "ipython",
    "version": 3
   },
   "file_extension": ".py",
   "mimetype": "text/x-python",
   "name": "python",
   "nbconvert_exporter": "python",
   "pygments_lexer": "ipython3",
   "version": "3.11.8"
  }
 },
 "nbformat": 4,
 "nbformat_minor": 4
}
